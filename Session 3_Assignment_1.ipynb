{
 "cells": [
  {
   "cell_type": "code",
   "execution_count": 8,
   "metadata": {},
   "outputs": [
    {
     "name": "stdout",
     "output_type": "stream",
     "text": [
      "70\n"
     ]
    }
   ],
   "source": [
    "lst = [12,13,14,15,16]\n",
    "\n",
    "def addFunc(x): # function to calculate the sum of numbers in list.\n",
    "    sum_num=0\n",
    "    for i in x:\n",
    "        sum_num = sum_num+i\n",
    "    return sum_num\n",
    "\n",
    "def myReduce(addFunc,lst): # function is called with 2 parameters(function, list)\n",
    "    return addFunc(lst) #addFunc is called and list is passed to return the sum of numbers in list.\n",
    "\n",
    "lst_sum = myReduce(addFunc,lst) #myReduce, equivalent to reduce() function is passing two parameter(function, list)\n",
    "print (lst_sum)"
   ]
  },
  {
   "cell_type": "code",
   "execution_count": 13,
   "metadata": {},
   "outputs": [
    {
     "data": {
      "text/plain": [
       "70"
      ]
     },
     "execution_count": 13,
     "metadata": {},
     "output_type": "execute_result"
    }
   ],
   "source": [
    "# Using lambda \n",
    "from functools import reduce\n",
    "reduce(lambda x,y:x+y,lst)"
   ]
  },
  {
   "cell_type": "code",
   "execution_count": null,
   "metadata": {},
   "outputs": [],
   "source": []
  }
 ],
 "metadata": {
  "kernelspec": {
   "display_name": "Python 3",
   "language": "python",
   "name": "python3"
  },
  "language_info": {
   "codemirror_mode": {
    "name": "ipython",
    "version": 3
   },
   "file_extension": ".py",
   "mimetype": "text/x-python",
   "name": "python",
   "nbconvert_exporter": "python",
   "pygments_lexer": "ipython3",
   "version": "3.6.4"
  }
 },
 "nbformat": 4,
 "nbformat_minor": 2
}
